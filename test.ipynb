{
 "cells": [
  {
   "cell_type": "code",
   "execution_count": 3,
   "metadata": {},
   "outputs": [],
   "source": [
    "obs=[]\n",
    "with open(\"gen_hap.txt\",\"r\") as f:\n",
    "    for line in f.readlines():\n",
    "        obs.append(line[:-1])\n",
    "\n",
    "ref_list=[]\n",
    "for i in range(0,len(obs),4):\n",
    "    hap1=obs[i]\n",
    "    hap2=obs[i+1]\n",
    "    gen=obs[i+2]\n",
    "    ref_list.append((hap1,hap2,gen))\n"
   ]
  },
  {
   "cell_type": "code",
   "execution_count": null,
   "metadata": {},
   "outputs": [],
   "source": []
  }
 ],
 "metadata": {
  "kernelspec": {
   "display_name": "pytorch-course1-env",
   "language": "python",
   "name": "python3"
  },
  "language_info": {
   "codemirror_mode": {
    "name": "ipython",
    "version": 3
   },
   "file_extension": ".py",
   "mimetype": "text/x-python",
   "name": "python",
   "nbconvert_exporter": "python",
   "pygments_lexer": "ipython3",
   "version": "3.7.3"
  }
 },
 "nbformat": 4,
 "nbformat_minor": 2
}
