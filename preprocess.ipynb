{
  "cells": [
    {
      "cell_type": "code",
      "execution_count": 1,
      "metadata": {
        "colab": {
          "base_uri": "https://localhost:8080/"
        },
        "id": "n8CQtwjS2n0r",
        "outputId": "dde43eb3-15e9-4bc8-be01-5ff405cf83b4"
      },
      "outputs": [
        {
          "output_type": "stream",
          "name": "stdout",
          "text": [
            "Collecting pysam\n",
            "  Downloading pysam-0.22.0-cp310-cp310-manylinux_2_28_x86_64.whl (21.9 MB)\n",
            "\u001b[2K     \u001b[90m━━━━━━━━━━━━━━━━━━━━━━━━━━━━━━━━━━━━━━━━\u001b[0m \u001b[32m21.9/21.9 MB\u001b[0m \u001b[31m31.0 MB/s\u001b[0m eta \u001b[36m0:00:00\u001b[0m\n",
            "\u001b[?25hInstalling collected packages: pysam\n",
            "Successfully installed pysam-0.22.0\n"
          ]
        }
      ],
      "source": [
        "!pip install pysam\n",
        "import pysam"
      ]
    },
    {
      "cell_type": "code",
      "execution_count": 2,
      "metadata": {
        "colab": {
          "base_uri": "https://localhost:8080/"
        },
        "id": "226_qCCQxbtg",
        "outputId": "04d3c3f2-01a8-45b2-cb1e-4d4813a94b82"
      },
      "outputs": [
        {
          "output_type": "stream",
          "name": "stdout",
          "text": [
            "Reading package lists... Done\n",
            "Building dependency tree... Done\n",
            "Reading state information... Done\n",
            "The following additional packages will be installed:\n",
            "  libhts3 libhtscodecs2\n",
            "Suggested packages:\n",
            "  python3-numpy python3-matplotlib texlive-latex-recommended\n",
            "The following NEW packages will be installed:\n",
            "  bcftools libhts3 libhtscodecs2\n",
            "0 upgraded, 3 newly installed, 0 to remove and 33 not upgraded.\n",
            "Need to get 1,140 kB of archives.\n",
            "After this operation, 3,448 kB of additional disk space will be used.\n",
            "Get:1 http://archive.ubuntu.com/ubuntu jammy/universe amd64 libhtscodecs2 amd64 1.1.1-3 [53.2 kB]\n",
            "Get:2 http://archive.ubuntu.com/ubuntu jammy/universe amd64 libhts3 amd64 1.13+ds-2build1 [390 kB]\n",
            "Get:3 http://archive.ubuntu.com/ubuntu jammy/universe amd64 bcftools amd64 1.13-1 [697 kB]\n",
            "Fetched 1,140 kB in 1s (1,211 kB/s)\n",
            "Selecting previously unselected package libhtscodecs2:amd64.\n",
            "(Reading database ... 121749 files and directories currently installed.)\n",
            "Preparing to unpack .../libhtscodecs2_1.1.1-3_amd64.deb ...\n",
            "Unpacking libhtscodecs2:amd64 (1.1.1-3) ...\n",
            "Selecting previously unselected package libhts3:amd64.\n",
            "Preparing to unpack .../libhts3_1.13+ds-2build1_amd64.deb ...\n",
            "Unpacking libhts3:amd64 (1.13+ds-2build1) ...\n",
            "Selecting previously unselected package bcftools.\n",
            "Preparing to unpack .../bcftools_1.13-1_amd64.deb ...\n",
            "Unpacking bcftools (1.13-1) ...\n",
            "Setting up libhtscodecs2:amd64 (1.1.1-3) ...\n",
            "Setting up libhts3:amd64 (1.13+ds-2build1) ...\n",
            "Setting up bcftools (1.13-1) ...\n",
            "Processing triggers for libc-bin (2.35-0ubuntu3.4) ...\n",
            "/sbin/ldconfig.real: /usr/local/lib/libtbbmalloc.so.2 is not a symbolic link\n",
            "\n",
            "/sbin/ldconfig.real: /usr/local/lib/libtbbmalloc_proxy.so.2 is not a symbolic link\n",
            "\n",
            "/sbin/ldconfig.real: /usr/local/lib/libtbb.so.12 is not a symbolic link\n",
            "\n",
            "/sbin/ldconfig.real: /usr/local/lib/libtbbbind.so.3 is not a symbolic link\n",
            "\n",
            "/sbin/ldconfig.real: /usr/local/lib/libtbbbind_2_0.so.3 is not a symbolic link\n",
            "\n",
            "/sbin/ldconfig.real: /usr/local/lib/libtbbbind_2_5.so.3 is not a symbolic link\n",
            "\n",
            "Processing triggers for man-db (2.10.2-1) ...\n"
          ]
        }
      ],
      "source": [
        "!apt-get install bcftools"
      ]
    },
    {
      "cell_type": "code",
      "execution_count": 3,
      "metadata": {
        "colab": {
          "base_uri": "https://localhost:8080/"
        },
        "id": "scjYZd5nyQ6l",
        "outputId": "0de0d3e5-58b7-45a0-cd88-1e2f5260de8c"
      },
      "outputs": [
        {
          "output_type": "stream",
          "name": "stdout",
          "text": [
            "--2024-02-19 15:27:10--  https://ftp.1000genomes.ebi.ac.uk/vol1/ftp/release/20130502/ALL.chr19.phase3_shapeit2_mvncall_integrated_v5b.20130502.genotypes.vcf.gz\n",
            "Resolving ftp.1000genomes.ebi.ac.uk (ftp.1000genomes.ebi.ac.uk)... 193.62.193.167\n",
            "Connecting to ftp.1000genomes.ebi.ac.uk (ftp.1000genomes.ebi.ac.uk)|193.62.193.167|:443... connected.\n",
            "HTTP request sent, awaiting response... 200 OK\n",
            "Length: 344793450 (329M) [application/x-gzip]\n",
            "Saving to: ‘ALL.chr19.phase3_shapeit2_mvncall_integrated_v5b.20130502.genotypes.vcf.gz’\n",
            "\n",
            "ALL.chr19.phase3_sh 100%[===================>] 328.82M   709KB/s    in 8m 10s  \n",
            "\n",
            "2024-02-19 15:35:21 (687 KB/s) - ‘ALL.chr19.phase3_shapeit2_mvncall_integrated_v5b.20130502.genotypes.vcf.gz’ saved [344793450/344793450]\n",
            "\n"
          ]
        }
      ],
      "source": [
        "!wget 'https://ftp.1000genomes.ebi.ac.uk/vol1/ftp/release/20130502/ALL.chr19.phase3_shapeit2_mvncall_integrated_v5b.20130502.genotypes.vcf.gz'"
      ]
    },
    {
      "cell_type": "code",
      "execution_count": 4,
      "metadata": {
        "id": "3N1XeTfS1W1H"
      },
      "outputs": [],
      "source": [
        "!bcftools index 'ALL.chr19.phase3_shapeit2_mvncall_integrated_v5b.20130502.genotypes.vcf.gz'\n"
      ]
    },
    {
      "cell_type": "code",
      "execution_count": 11,
      "metadata": {
        "id": "TObX3J_71zwK"
      },
      "outputs": [],
      "source": [
        "!bcftools view -r 19:3610645-3626815 ALL.chr19.phase3_shapeit2_mvncall_integrated_v5b.20130502.genotypes.vcf.gz > cactin.vcf.gz"
      ]
    },
    {
      "cell_type": "code",
      "execution_count": 12,
      "metadata": {
        "id": "7Z1esu8R2Nkv"
      },
      "outputs": [],
      "source": [
        "!bcftools view --min-af 0.01 -o maf.vcf.gz cactin.vcf.gz"
      ]
    },
    {
      "cell_type": "code",
      "execution_count": 13,
      "metadata": {
        "id": "_8tAZaSx2TDf"
      },
      "outputs": [],
      "source": [
        "!bcftools view --max-alleles 2 -o bialles.vcf.gz maf.vcf.gz"
      ]
    },
    {
      "cell_type": "code",
      "execution_count": 14,
      "metadata": {
        "id": "RBqWS2bl2Iaj"
      },
      "outputs": [],
      "source": [
        "!bcftools view -v snps bialles.vcf.gz > snp_cactin.vcf.gz"
      ]
    },
    {
      "cell_type": "code",
      "execution_count": 15,
      "metadata": {
        "colab": {
          "base_uri": "https://localhost:8080/"
        },
        "id": "7uMQF7142Wzo",
        "outputId": "8654b83a-0d9a-49db-f3c8-60df6557dff5"
      },
      "outputs": [
        {
          "output_type": "stream",
          "name": "stdout",
          "text": [
            "2504\n",
            "95\n"
          ]
        }
      ],
      "source": [
        "!bcftools query -l bialles.vcf.gz | wc -l ; bcftools view -v snps bialles.vcf.gz | grep -v \"^#\" | wc -l"
      ]
    },
    {
      "cell_type": "code",
      "execution_count": 18,
      "metadata": {
        "id": "PsRiekJr2ky6"
      },
      "outputs": [],
      "source": [
        "def Get_Genotypes(vcf_file_path):\n",
        "    genotypes = []\n",
        "    reader=pysam.VariantFile(vcf_file_path, 'r')\n",
        "    for i in range(len(reader.header.samples)):\n",
        "        genotypes.append([])\n",
        "    for record in reader:\n",
        "        for i, sample in enumerate(record.samples.values()):\n",
        "            genotype = sample['GT']\n",
        "            genotypes[i].append(genotype)\n",
        "    return genotypes\n",
        "\n",
        "haplotype_list= []\n",
        "gen_hap_list = []\n",
        "genotype_list = []\n",
        "vcf_file_path = '/content/bialles.vcf.gz'\n",
        "genotypes = Get_Genotypes(vcf_file_path)\n",
        "for i, genotypes in enumerate(genotypes):\n",
        "    h1 = ''.join([str(t[0]) for t in genotypes])\n",
        "    h2 = ''.join([str(t[1]) for t in genotypes])\n",
        "    gen = ''.join([str(t[0]+t[1]) for t in genotypes])\n",
        "    gen_hap_list.append((h1, h2, gen))\n",
        "    haplotype_list.append(h1)\n",
        "    haplotype_list.append(h2)\n",
        "    genotype_list.append(gen)\n",
        "\n",
        "\n",
        "haplo_path = \"haplotype.txt\"\n",
        "geno_path = \"genotype.txt\"\n",
        "gen_hap_path = \"gen_hap.txt\"\n",
        "def save(path, str_list):\n",
        "  f=open(path,\"w\")\n",
        "  for string in str_list:\n",
        "    f.write(string + \"\\n\")\n",
        "\n",
        "save(haplo_path, haplotype_list)\n",
        "save(geno_path, genotype_list)\n",
        "\n",
        "gen_hap_combine_list=[]\n",
        "for item in gen_hap_list:\n",
        "  gen_hap_combine_list.append(item[0]+\" \"+item[1]+\" \"+item[2])\n",
        "save(gen_hap_path, gen_hap_combine_list)"
      ]
    },
    {
      "cell_type": "code",
      "source": [],
      "metadata": {
        "id": "Ryn6MoS4Epqx"
      },
      "execution_count": null,
      "outputs": []
    }
  ],
  "metadata": {
    "colab": {
      "provenance": []
    },
    "kernelspec": {
      "display_name": "Python 3",
      "name": "python3"
    },
    "language_info": {
      "name": "python"
    }
  },
  "nbformat": 4,
  "nbformat_minor": 0
}